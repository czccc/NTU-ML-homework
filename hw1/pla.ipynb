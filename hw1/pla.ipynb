{
 "nbformat": 4,
 "nbformat_minor": 2,
 "metadata": {
  "language_info": {
   "name": "python",
   "codemirror_mode": {
    "name": "ipython",
    "version": 3
   }
  },
  "orig_nbformat": 2,
  "file_extension": ".py",
  "mimetype": "text/x-python",
  "name": "python",
  "npconvert_exporter": "python",
  "pygments_lexer": "ipython3",
  "version": 3
 },
 "cells": [
  {
   "cell_type": "code",
   "execution_count": 1,
   "metadata": {},
   "outputs": [],
   "source": [
    "import numpy"
   ]
  },
  {
   "cell_type": "code",
   "execution_count": 2,
   "metadata": {},
   "outputs": [],
   "source": [
    "def read_data(filename):\n",
    "    X_train = []\n",
    "    Y_train = []\n",
    "    with open(filename) as f:\n",
    "        for line in f.readlines():\n",
    "            s = list(map(float, line.split()))\n",
    "            s.insert(0, 1.)\n",
    "            X_train.append(s[:5])\n",
    "            Y_train.append(int(s[5]))\n",
    "    X_train = numpy.array(X_train)\n",
    "    Y_train = numpy.array(Y_train)\n",
    "    return (X_train, Y_train)"
   ]
  },
  {
   "cell_type": "code",
   "execution_count": 3,
   "metadata": {},
   "outputs": [],
   "source": [
    "def sign(x):\n",
    "    if x > 0:\n",
    "        return 1\n",
    "    else:\n",
    "        return -1\n",
    "vsign = numpy.vectorize(sign)"
   ]
  },
  {
   "cell_type": "code",
   "execution_count": 4,
   "metadata": {},
   "outputs": [],
   "source": [
    "X_train, Y_train = read_data(\"hw1/15-train.dat\")\n",
    "length = len(X_train)\n",
    "def pla_train(rate=1, seed=None):\n",
    "    if seed:\n",
    "        numpy.random.seed(seed)\n",
    "        permutation = numpy.random.permutation(Y_train.shape[0])\n",
    "        X = X_train[permutation, :]\n",
    "        Y = Y_train[permutation]\n",
    "    else:\n",
    "        X = X_train\n",
    "        Y = Y_train\n",
    "    w = numpy.array([0., 0., 0., 0., 0.])\n",
    "    updates = 0\n",
    "    finished = 0\n",
    "    while True:\n",
    "        for i in range(length):\n",
    "            if sign(X[i].dot(w)) != Y[i]:\n",
    "                w = w + rate * Y[i] * X[i]\n",
    "                updates += 1\n",
    "                if (vsign(X.dot(w))==Y).sum() == length:\n",
    "                    # print(updates)\n",
    "                    # print(w)\n",
    "                    return updates\n",
    "                    finished = 1\n",
    "                    break\n",
    "        if finished:\n",
    "            break"
   ]
  },
  {
   "cell_type": "code",
   "execution_count": 5,
   "metadata": {},
   "outputs": [
    {
     "data": {
      "text/plain": "45"
     },
     "execution_count": 5,
     "metadata": {},
     "output_type": "execute_result"
    }
   ],
   "source": [
    "# Q15\n",
    "pla_train()"
   ]
  },
  {
   "cell_type": "code",
   "execution_count": 6,
   "metadata": {},
   "outputs": [
    {
     "data": {
      "text/plain": "40.164"
     },
     "execution_count": 6,
     "metadata": {},
     "output_type": "execute_result"
    }
   ],
   "source": [
    "# Q16\n",
    "l = []\n",
    "for i in range(2000):\n",
    "    l.append(pla_train(seed=i*i))\n",
    "sum(l) / len(l)"
   ]
  },
  {
   "cell_type": "code",
   "execution_count": 7,
   "metadata": {},
   "outputs": [
    {
     "data": {
      "text/plain": "40.164"
     },
     "execution_count": 7,
     "metadata": {},
     "output_type": "execute_result"
    }
   ],
   "source": [
    "# Q17\n",
    "l = []\n",
    "for i in range(2000):\n",
    "    l.append(pla_train(seed=i*i, rate=0.5))\n",
    "sum(l) / len(l)"
   ]
  },
  {
   "cell_type": "code",
   "execution_count": 8,
   "metadata": {},
   "outputs": [],
   "source": [
    "X_train, Y_train = read_data(\"hw1/18-train.dat\")\n",
    "X_test, Y_test = read_data(\"hw1/18-test.dat\")\n",
    "def poc_train(seed=None, poc=True, updates=50):\n",
    "    if seed:\n",
    "        numpy.random.seed(seed)\n",
    "        permutation = numpy.random.permutation(Y_train.shape[0])\n",
    "        X = X_train[permutation, :]\n",
    "        Y = Y_train[permutation]\n",
    "    else:\n",
    "        X = X_train\n",
    "        Y = Y_train\n",
    "    w = numpy.array([0., 0., 0., 0., 0.])\n",
    "    w_poc = numpy.array([0., 0., 0., 0., 0.])\n",
    "    # updates = 0\n",
    "    # finished = 0\n",
    "    # while True:\n",
    "    for i in range(updates):\n",
    "        if sign(X[i].dot(w)) != Y[i]:\n",
    "            w = w + Y[i] * X[i]\n",
    "            if (vsign(X.dot(w))==Y).sum() > (vsign(X.dot(w_poc))==Y).sum():\n",
    "                w_poc = w\n",
    "    if poc:\n",
    "        return (len(Y_test) - (vsign(X_test.dot(w_poc))==Y_test).sum()) / len(Y_test)\n",
    "    else:\n",
    "        return (len(Y_test) - (vsign(X_test.dot(w))==Y_test).sum()) / len(Y_test)"
   ]
  },
  {
   "cell_type": "code",
   "execution_count": 9,
   "metadata": {},
   "outputs": [
    {
     "data": {
      "text/plain": "0.18870699999999999"
     },
     "execution_count": 9,
     "metadata": {},
     "output_type": "execute_result"
    }
   ],
   "source": [
    "# Q18\n",
    "l = []\n",
    "for i in range(2000):\n",
    "    l.append(poc_train(seed=i*i))\n",
    "sum(l) / len(l)"
   ]
  },
  {
   "cell_type": "code",
   "execution_count": 10,
   "metadata": {},
   "outputs": [
    {
     "data": {
      "text/plain": "0.30811299999999997"
     },
     "execution_count": 10,
     "metadata": {},
     "output_type": "execute_result"
    }
   ],
   "source": [
    "# Q19\n",
    "l = []\n",
    "for i in range(2000):\n",
    "    l.append(poc_train(seed=i*i, poc=False))\n",
    "sum(l) / len(l)"
   ]
  },
  {
   "cell_type": "code",
   "execution_count": 11,
   "metadata": {},
   "outputs": [
    {
     "data": {
      "text/plain": "0.14932199999999907"
     },
     "execution_count": 11,
     "metadata": {},
     "output_type": "execute_result"
    }
   ],
   "source": [
    "# Q20\n",
    "l = []\n",
    "for i in range(2000):\n",
    "    l.append(poc_train(seed=i*i, updates=100))\n",
    "sum(l) / len(l)"
   ]
  },
  {
   "cell_type": "code",
   "execution_count": null,
   "metadata": {},
   "outputs": [],
   "source": []
  }
 ]
}